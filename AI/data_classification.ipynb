{
 "cells": [
  {
   "cell_type": "code",
   "execution_count": 1,
   "id": "3139d742",
   "metadata": {},
   "outputs": [],
   "source": [
    "import pandas as pd\n",
    "import numpy as np\n",
    "import matplotlib.pyplot as plt\n",
    "from konlpy.tag import Okt\n",
    "from sklearn.metrics.pairwise import cosine_similarity\n",
    "from sklearn.feature_extraction.text import TfidfVectorizer\n",
    "from tqdm import tqdm\n",
    "from collections import Counter\n",
    "from soyspacing.countbase import CountSpace"
   ]
  },
  {
   "cell_type": "code",
   "execution_count": 2,
   "id": "a652f519",
   "metadata": {},
   "outputs": [
    {
     "name": "stdout",
     "output_type": "stream",
     "text": [
      "                title                                            outline\n",
      "0        회장님의 백만가지 대본  교통사고로 머리를 다친 강예성. 뇌 손상으로 자신을 소설속 남주로 착각하는 강예성을...\n",
      "1           회사원 K의 비밀  직장생활 5년 차 김대리. \\r\\n\\r\\n그에겐 딱 한가지 남들에게 말하지 못하는 ...\n",
      "2      황자님, 왜 잘해 주세요?  \"저, 저를 어떻게 하시려는 거예요?\" \"강의 신에게 제물로 가는 거다.\" 더러운 ...\n",
      "3        환상의 에덴 [개정판]  어떠한 이유로 방랑하고 있는 사형 잇테츠를 데리러 온 승려 야마토.\\r\\n\\r\\n너...\n",
      "4         화려한 혼활 버스터즈  혼활에서 연전연패 중인 팔방미인 회사원, 카쿄인 요리.\\r\\n\\r\\n그리고 그녀의 ...\n",
      "...               ...                                                ...\n",
      "21765        060 특수부대  연재기간 : 2010.03.23~\\r\\n\\r\\n총회차 : 1047회차\\r\\n\\r\\n...\n",
      "21766        0.1초의 설렘                                긴 사랑과 짧은 설렘에 대한 보고서\n",
      "21767    0.0MHz  (완결)                       심령현상을 과학적으로 밝히려는 위험한 발상의 사람들\n",
      "21768          -0.5˚C  아버지의 불륜으로 사랑에 거부감을 보이는 대학생 이수. 사랑을 원하여 남자들과의 만...\n",
      "21769            #해모나  셀기꾼 SNS 인기스타인 모나. 어느날 그녀 앞에 랜선으로만 연애하던 남자친구가 찾...\n",
      "\n",
      "[21770 rows x 2 columns]\n"
     ]
    },
    {
     "name": "stderr",
     "output_type": "stream",
     "text": [
      "/var/folders/j0/p8q34w_j4yz0ghqcplk17s240000gn/T/ipykernel_41099/4050027573.py:6: DtypeWarning: Columns (6,7,10,11,13,15) have mixed types. Specify dtype option on import or set low_memory=False.\n",
      "  df = pd.read_csv(file_path)\n"
     ]
    }
   ],
   "source": [
    "file_path = '/Users/choedohyeon/desktop/workarea/summery/webtoon.csv'\n",
    "\n",
    "# 모델 생성\n",
    "model = CountSpace()\n",
    "\n",
    "df = pd.read_csv(file_path)\n",
    "\n",
    "df = df[['title', 'outline']]\n",
    "df = df.drop_duplicates(subset=['title'])\n",
    "df = df.drop_duplicates(subset=['outline'])\n",
    "df = df.dropna()\n",
    "df = df.reset_index(drop=True)\n",
    "\n",
    "outlines = df['outline'].tolist()\n",
    "\n",
    "\n",
    "\n",
    "print(df)\n"
   ]
  },
  {
   "cell_type": "code",
   "execution_count": 31,
   "id": "71e32d4a",
   "metadata": {},
   "outputs": [
    {
     "name": "stdout",
     "output_type": "stream",
     "text": [
      "연재기간 : 2010.03.23~\n",
      "\n",
      "총회차 : 1047회차\n",
      "\n",
      "연재매체 : 머니투데이\n",
      "\n",
      "바로가기 : <a href=http://comic.mt.co.kr/comicDetail.htm?nComicSeq=6 target=_blank>http://comic.mt.co.kr/comicDetail.htm?nComicSeq=6</a>\n",
      "\n",
      "\n",
      "\n",
      "연재매체 : OSEN\n",
      "\n",
      "연재기간 : 2010.03.23~\n",
      "\n",
      "총회차 : \n",
      "\n",
      "바로가기 : <a href='http://comicos\n"
     ]
    }
   ],
   "source": [
    "print(df['outline'][21765])"
   ]
  },
  {
   "cell_type": "code",
   "execution_count": null,
   "id": "0b436648",
   "metadata": {},
   "outputs": [],
   "source": []
  }
 ],
 "metadata": {
  "kernelspec": {
   "display_name": "Python 3 (ipykernel)",
   "language": "python",
   "name": "python3"
  },
  "language_info": {
   "codemirror_mode": {
    "name": "ipython",
    "version": 3
   },
   "file_extension": ".py",
   "mimetype": "text/x-python",
   "name": "python",
   "nbconvert_exporter": "python",
   "pygments_lexer": "ipython3",
   "version": "3.11.4"
  }
 },
 "nbformat": 4,
 "nbformat_minor": 5
}
